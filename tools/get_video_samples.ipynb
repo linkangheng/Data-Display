{
 "cells": [
  {
   "cell_type": "markdown",
   "metadata": {},
   "source": [
    "## How2link 数据集抽取"
   ]
  },
  {
   "cell_type": "code",
   "execution_count": null,
   "metadata": {},
   "outputs": [],
   "source": [
    "# Download Videos \n",
    "from tqdm import tqdm \n",
    "import os\n",
    "txt_path = \"./download.txt\"\n",
    "prefix = \"tos:kanelin/interlink7m/Howto-Interlink7M_subset_w_all_clips_train\"\n",
    "\n",
    "with open(txt_path, 'r') as file:\n",
    "    lines = file.readlines()\n",
    "    for i,line in enumerate(tqdm(lines)):\n",
    "        video_path = os.path.join(prefix,line.split()[-1])\n",
    "        # print(video_path)\n",
    "        local_path = os.path.join(\"/data/streamlit_source/keyframe_sapmle/how2link\")\n",
    "        try:\n",
    "            result = subprocess.run(['rclone', 'copy',video_path,local_path])\n",
    "            # 修改文件名\n",
    "            os.rename(os.path.join(local_path,video_path.split(\"/\")[-1]),os.path.join(local_path,f\"{i+1}.mp4\"))\n",
    "            # print(result)\n",
    "        except:\n",
    "            pass"
   ]
  },
  {
   "cell_type": "markdown",
   "metadata": {},
   "source": [
    "## Webvid 数据集抽取"
   ]
  },
  {
   "cell_type": "code",
   "execution_count": null,
   "metadata": {},
   "outputs": [],
   "source": [
    "# Download Videos \n",
    "from tqdm import tqdm \n",
    "import os\n",
    "txt_path = \"./download.txt\"\n",
    "prefix = \"oss:vision-language-data/video-data/webvid10m/process_videos\" # tos:kanelin/interlink7m/Howto-Interlink7M_subset_w_all_clips_train, oss:vision-language-data/video-data/webvid10m/process_videos, oss:vision-language-data/video-data/hd130m/process_videos/\n",
    "\n",
    "with open(txt_path, 'r') as file:\n",
    "    lines = file.readlines()\n",
    "    for i,line in enumerate(tqdm(lines)):\n",
    "        video_path = os.path.join(prefix,line.split()[-1])\n",
    "        # print(video_path)\n",
    "        local_path = os.path.join(\"/data/streamlit_source/keyframe_sapmle/webvid\")\n",
    "        try:\n",
    "            result = subprocess.run(['rclone', 'copy',video_path,local_path])\n",
    "            # 修改文件名\n",
    "            os.rename(os.path.join(local_path,video_path.split(\"/\")[-1]),os.path.join(local_path,f\"{i+1}.mp4\"))\n",
    "            # print(result)\n",
    "        except:\n",
    "            pass"
   ]
  },
  {
   "cell_type": "markdown",
   "metadata": {},
   "source": [
    "## HDVila 数据集抽取"
   ]
  },
  {
   "cell_type": "code",
   "execution_count": null,
   "metadata": {},
   "outputs": [],
   "source": [
    "# Download Videos \n",
    "from tqdm import tqdm \n",
    "import os\n",
    "txt_path = \"./download.txt\"\n",
    "prefix = \"oss:vision-language-data/video-data/hd130m/process_videos/\" # tos:kanelin/interlink7m/Howto-Interlink7M_subset_w_all_clips_train, oss:vision-language-data/video-data/webvid10m/process_videos, oss:vision-language-data/video-data/hd130m/process_videos/\n",
    "\n",
    "with open(txt_path, 'r') as file:\n",
    "    lines = file.readlines()\n",
    "    for i,line in enumerate(tqdm(lines)):\n",
    "        video_path = os.path.join(prefix,line.split()[-1])\n",
    "        # print(video_path)\n",
    "        local_path = os.path.join(\"/data/streamlit_source/keyframe_sapmle/hdvila\")\n",
    "        try:\n",
    "            result = subprocess.run(['rclone', 'copy',video_path,local_path])\n",
    "            # 修改文件名\n",
    "            os.rename(os.path.join(local_path,video_path.split(\"/\")[-1]),os.path.join(local_path,f\"{i+1}.mp4\"))\n",
    "            # print(result)\n",
    "        except:\n",
    "            pass"
   ]
  },
  {
   "cell_type": "markdown",
   "metadata": {},
   "source": [
    "## InternVid 数据集抽取"
   ]
  },
  {
   "cell_type": "code",
   "execution_count": null,
   "metadata": {},
   "outputs": [],
   "source": [
    "import os\n",
    "from tqdm import tqdm\n",
    "video_path = \"/mnt/shared-storage/tenant/hypertext/kanelin/data/internvid/InternVId-FLT_11\"\n",
    "video_li = os.listdir(video_path)[:1000]\n",
    "for i, video in enumerate(tqdm(video_li, total=len(video_li))):\n",
    "    try:\n",
    "        # 复制文件 并修改文件名\n",
    "        os.system(f\"cp {os.path.join(video_path,video)} /data/streamlit_source/keyframe_sapmle/internvid/\")\n",
    "        os.rename(os.path.join(\"/data/streamlit_source/keyframe_sapmle/internvid\",video),os.path.join(\"/data/streamlit_source/keyframe_sapmle/internvid\",f\"{i+1}.mp4\"))\n",
    "    except:\n",
    "        pass"
   ]
  }
 ],
 "metadata": {
  "language_info": {
   "name": "python"
  }
 },
 "nbformat": 4,
 "nbformat_minor": 2
}
