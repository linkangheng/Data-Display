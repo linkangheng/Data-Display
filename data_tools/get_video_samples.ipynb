{
 "cells": [
  {
   "cell_type": "markdown",
   "metadata": {},
   "source": [
    "## How2link 数据集抽取"
   ]
  },
  {
   "cell_type": "code",
   "execution_count": 42,
   "metadata": {},
   "outputs": [
    {
     "name": "stderr",
     "output_type": "stream",
     "text": [
      "100%|██████████| 1000/1000 [00:00<00:00, 312541.28it/s]\n"
     ]
    }
   ],
   "source": [
    "from tqdm import tqdm\n",
    "import json\n",
    "import os \n",
    "json_path = \"/home/kanghenglin/streamit/Howto-Interlink7M_subset_w_all_clips_val.json\"\n",
    "datas = json.load(open(json_path,'r'))\n",
    "video_caption = {}\n",
    "\n",
    "for idx, data in enumerate(tqdm(datas[:1000],total=1000)):     \n",
    "    try:\n",
    "        sample = data['clips'][1]\n",
    "    except:\n",
    "        sample = data['clips'][0]\n",
    "        \n",
    "    s3_path = sample['clip_path']\n",
    "    tos_path = s3_path.replace(\"s3://kanelin/interlink7m/samples/data/\",\"tos:kanelin/interlink7m/\") + \".mp4\"\n",
    "    local_dir = \"/data/streamlit_source/keyframe_sapmle/how2link\"\n",
    "    local_path = os.path.join(local_dir,f\"{idx+1}.mp4\")\n",
    "    caption = sample['caption']\n",
    "\n",
    "    video_caption[idx+1] = caption\n",
    "    \n",
    "    !rclone copy \"$tos_path\" \"$local_dir\"\n",
    "    os.rename(os.path.join(local_dir,s3_path.split(\"/\")[-1]+\".mp4\"),local_path)\n",
    "\n",
    "# 保存video_caption字典\n",
    "json.dump(video_caption,open(\"/data/streamlit_source/keyframe_sapmle/how2link/caption.json\",'w'))\n"
   ]
  },
  {
   "cell_type": "markdown",
   "metadata": {},
   "source": [
    "## Webvid 数据集抽取"
   ]
  },
  {
   "cell_type": "code",
   "execution_count": 43,
   "metadata": {},
   "outputs": [
    {
     "name": "stderr",
     "output_type": "stream",
     "text": [
      "100%|██████████| 1000/1000 [00:00<00:00, 249705.54it/s]\n"
     ]
    }
   ],
   "source": [
    "from tqdm import tqdm\n",
    "import json\n",
    "import os\n",
    "json_path = \"/data/streamlit_source/rmwm_webvid_QA_train_clean_train.json\"\n",
    "datas = json.load(open(json_path,'r'))\n",
    "video_caption = {}\n",
    "\n",
    "for idx in tqdm(range(1000)):\n",
    "    \n",
    "    prefix = \"oss:vision-language-data/video-data/webvid10m/process_videos\"\n",
    "    tos_path = os.path.join(prefix, datas['image'][str(idx)])\n",
    "    \n",
    "    local_dir = \"/data/streamlit_source/keyframe_sapmle/webvid\"\n",
    "    local_path = os.path.join(local_dir,f\"{idx+1}.mp4\")\n",
    "    caption = datas['value'][str(idx)]\n",
    "    \n",
    "    video_caption[idx+1] = caption\n",
    "    \n",
    "    !rclone copy \"$tos_path\" \"$local_dir\"\n",
    "    os.rename(os.path.join(local_dir,tos_path.split(\"/\")[-1]),local_path)\n",
    "    \n",
    "\n",
    "# 保存video_caption字典\n",
    "json.dump(video_caption,open(\"/data/streamlit_source/keyframe_sapmle/webvid/caption.json\",'w'))"
   ]
  },
  {
   "cell_type": "markdown",
   "metadata": {},
   "source": [
    "## HDVila 数据集抽取"
   ]
  },
  {
   "cell_type": "code",
   "execution_count": null,
   "metadata": {},
   "outputs": [],
   "source": [
    "from tqdm import tqdm\n",
    "import json\n",
    "import os \n",
    "json_path = \"/data/streamlit_source/path_to_output_hd-3m3.json\"\n",
    "datas = json.load(open(json_path,'r'))\n",
    "video_caption = {}\n",
    "\n",
    "for idx, data in enumerate(tqdm(datas[:1000],total=1000)):\n",
    "    \n",
    "    prefix = \"oss:vision-language-data/video-data/hd130m/process_videos/\"    \n",
    "    tos_path = os.path.join(prefix, data['video'])\n",
    "    \n",
    "    local_dir = \"/data/streamlit_source/keyframe_sapmle/hdvila\"\n",
    "    local_path = os.path.join(local_dir,f\"{idx+1}.mp4\")\n",
    "    caption = data['caption']\n",
    "    \n",
    "    video_caption[idx+1] = caption\n",
    "    \n",
    "    !rclone copy \"$tos_path\" \"$local_dir\"\n",
    "    os.rename(os.path.join(local_dir,tos_path.split(\"/\")[-1]),local_path)\n",
    "    \n",
    "# 保存video_caption字典\n",
    "json.dump(video_caption,open(\"/data/streamlit_source/keyframe_sapmle/hdvila/caption.json\",'w'))"
   ]
  },
  {
   "cell_type": "markdown",
   "metadata": {},
   "source": [
    "## InternVid 数据集抽取"
   ]
  },
  {
   "cell_type": "code",
   "execution_count": null,
   "metadata": {},
   "outputs": [],
   "source": [
    "import pandas as pd\n",
    "import os\n",
    "from tqdm import tqdm\n",
    "import shutil\n",
    "import json\n",
    "\n",
    "video_caption = {}\n",
    "df = pd.read_json('/data/streamlit_source/raw_json/InternVid-10M-FLT-INFO.jsonl', lines=True)\n",
    "video_dir = \"/mnt/shared-storage/tenant/hypertext/kanelin/data/internvid/InternVId-FLT/\"\n",
    "meta_data = df[:1000]\n",
    "meta_data = meta_data.to_dict()\n",
    "for idx in tqdm(range(1000)):\n",
    "    file_name = os.path.join(video_dir,\"_\".join([meta_data['YoutubeID'][idx],meta_data['Start_timestamp'][idx],meta_data['End_timestamp'][idx]]) + \".mp4\")\n",
    "    caption = meta_data['Caption'][idx]\n",
    "    shutil.copy(file_name, \"/data/streamlit_source/keyframe_sapmle/internvid\")\n",
    "    os.rename(f\"/data/streamlit_source/keyframe_sapmle/internvid/{file_name.split('/')[-1]}\", f\"/data/streamlit_source/keyframe_sapmle/internvid/{idx+1}.mp4\")\n",
    "    video_caption[idx+1] = caption\n",
    "\n",
    "json.dump(video_caption,open(\"/data/streamlit_source/keyframe_sapmle/internvid/caption.json\",'w'))\n"
   ]
  },
  {
   "cell_type": "markdown",
   "metadata": {},
   "source": [
    "## Momentor 数据集抽取"
   ]
  },
  {
   "cell_type": "code",
   "execution_count": null,
   "metadata": {},
   "outputs": [],
   "source": [
    "from tqdm import tqdm\n",
    "import json\n",
    "import os \n",
    "import shutil\n",
    "\n",
    "print('Loading Json ...')\n",
    "json_path = \"/mnt/shared-storage/tenant/hypertext/kanelin/data/Moment-10M/json/Moment-10M_0.json\"\n",
    "datas = json.load(open(json_path,'r'))\n",
    "print('Start Processing ...')\n",
    "video_ids = list(datas.keys())\n",
    "video_caption = {}\n",
    "\n",
    "for idx, video_id in enumerate(tqdm(video_ids[:1000],total=1000)):\n",
    "    \n",
    "    prefix = \"/mnt/shared-storage/tenant/hypertext/kanelin/data/Moment-10M/video\"\n",
    "    video_path = os.path.join(prefix, video_id + \".mp4\")\n",
    "    \n",
    "    if not os.path.exists(video_path):\n",
    "        continue\n",
    "    \n",
    "    local_dir = \"/data/streamlit_source/keyframe_sapmle/momentor\"\n",
    "    local_path = os.path.join(local_dir,f\"{idx+1}.mp4\")\n",
    "    \n",
    "    caption = datas[video_id]\n",
    "    \n",
    "    video_caption[idx+1] = caption\n",
    "    \n",
    "    # !cp \"$video_path\" \"$local_dir\"\n",
    "    shutil.copy(video_path, local_dir)\n",
    "    \n",
    "    os.rename(os.path.join(local_dir,video_path.split(\"/\")[-1]),local_path)\n",
    "    \n",
    "# 保存video_caption字典\n",
    "json.dump(video_caption,open(\"/data/streamlit_source/keyframe_sapmle/momentor/caption.json\",'w'))"
   ]
  }
 ],
 "metadata": {
  "kernelspec": {
   "display_name": "grit",
   "language": "python",
   "name": "python3"
  },
  "language_info": {
   "codemirror_mode": {
    "name": "ipython",
    "version": 3
   },
   "file_extension": ".py",
   "mimetype": "text/x-python",
   "name": "python",
   "nbconvert_exporter": "python",
   "pygments_lexer": "ipython3",
   "version": "3.8.18"
  }
 },
 "nbformat": 4,
 "nbformat_minor": 2
}
